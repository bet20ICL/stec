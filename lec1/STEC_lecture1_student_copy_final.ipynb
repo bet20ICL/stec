{
 "cells": [
  {
   "cell_type": "markdown",
   "metadata": {
    "id": "mrmyhBQuf6F9"
   },
   "source": [
    "# 2022 Systematic Trading Education Ceritificate Skeleton Code Lecture 1\n"
   ]
  },
  {
   "cell_type": "markdown",
   "metadata": {
    "id": "molafCOxrVMt"
   },
   "source": [
    "## Lecture 1\n",
    "In this lecture we will be focussing on developing code for both a relative and time series momentum strategies. This lecture will also focus on introducing QT Capital's own skeleton code for backtesting strategies. Note that in order to access financial price data we use the module [yfinance](https://pypi.org/project/yfinance/), which has to be first installed using the Python command pip install done below. The yfinance module allows for the easy pulling of data from yahoo finance which will provide us with asset price data for the first and second lectures."
   ]
  },
  {
   "cell_type": "code",
   "execution_count": 9,
   "metadata": {
    "colab": {
     "base_uri": "https://localhost:8080/"
    },
    "id": "Q9sTyZgyu3C_",
    "outputId": "762f482e-0a78-47dd-8ef8-88c1cb7b1864"
   },
   "outputs": [
    {
     "name": "stdout",
     "output_type": "stream",
     "text": [
      "Requirement already satisfied: yfinance in d:\\program_files\\miniconda3\\envs\\trading\\lib\\site-packages (0.1.70)\n",
      "Requirement already satisfied: numpy>=1.15 in d:\\program_files\\miniconda3\\envs\\trading\\lib\\site-packages (from yfinance) (1.22.2)\n",
      "Requirement already satisfied: lxml>=4.5.1 in d:\\program_files\\miniconda3\\envs\\trading\\lib\\site-packages (from yfinance) (4.8.0)\n",
      "Requirement already satisfied: requests>=2.26 in d:\\program_files\\miniconda3\\envs\\trading\\lib\\site-packages (from yfinance) (2.27.1)\n",
      "Requirement already satisfied: pandas>=0.24.0 in d:\\program_files\\miniconda3\\envs\\trading\\lib\\site-packages (from yfinance) (1.4.1)\n",
      "Requirement already satisfied: multitasking>=0.0.7 in d:\\program_files\\miniconda3\\envs\\trading\\lib\\site-packages (from yfinance) (0.0.10)\n",
      "Requirement already satisfied: pytz>=2020.1 in d:\\program_files\\miniconda3\\envs\\trading\\lib\\site-packages (from pandas>=0.24.0->yfinance) (2021.3)\n",
      "Requirement already satisfied: python-dateutil>=2.8.1 in d:\\program_files\\miniconda3\\envs\\trading\\lib\\site-packages (from pandas>=0.24.0->yfinance) (2.8.2)\n",
      "Requirement already satisfied: six>=1.5 in d:\\program_files\\miniconda3\\envs\\trading\\lib\\site-packages (from python-dateutil>=2.8.1->pandas>=0.24.0->yfinance) (1.16.0)\n",
      "Requirement already satisfied: certifi>=2017.4.17 in d:\\program_files\\miniconda3\\envs\\trading\\lib\\site-packages (from requests>=2.26->yfinance) (2021.10.8)\n",
      "Requirement already satisfied: idna<4,>=2.5 in d:\\program_files\\miniconda3\\envs\\trading\\lib\\site-packages (from requests>=2.26->yfinance) (3.3)\n",
      "Requirement already satisfied: urllib3<1.27,>=1.21.1 in d:\\program_files\\miniconda3\\envs\\trading\\lib\\site-packages (from requests>=2.26->yfinance) (1.26.8)\n",
      "Requirement already satisfied: charset-normalizer~=2.0.0 in d:\\program_files\\miniconda3\\envs\\trading\\lib\\site-packages (from requests>=2.26->yfinance) (2.0.12)\n",
      "Note: you may need to restart the kernel to use updated packages.\n"
     ]
    }
   ],
   "source": [
    "pip install yfinance"
   ]
  },
  {
   "cell_type": "code",
   "execution_count": 10,
   "metadata": {
    "id": "GtOwINwNnocq"
   },
   "outputs": [],
   "source": [
    "# the usual imports along with yfinance and a few others\n",
    "import numpy as np\n",
    "import pandas as pd\n",
    "import pandas_datareader as pdr\n",
    "import yfinance as yf\n",
    "import matplotlib.pyplot as plt\n",
    "import datetime"
   ]
  },
  {
   "cell_type": "markdown",
   "metadata": {
    "id": "bp-GUs_Rhsa8"
   },
   "source": [
    "## The Parent Class and Evaluation method.\n",
    "In the code below we define the Strategies class which is a class containing all basic features that our individual backtesting strategy classes will inherit from.\n",
    "\n",
    "These basic features include:\n",
    "\n",
    "- the **init method** which defines the asset tickers that the strategy will be focussed on.\n",
    "- the **import data method** that will import data for a given start and end date using the yfinance module as mentioned earlier.\n",
    "- the **backtest method** that defines the class variable `self.strat` which is the pandas data frame of values representing the strategy. This is left empty as it will be filled in in the child class.\n",
    "- the **evaluate method** which calculates the cumulative returns of the given strategy, plots a chart of the cumulative returns and calculates the sharpe ratio of the strategy.\n",
    "(note that one task this week will be to write code in the evaluate method so that it also returns the sortino ratio)"
   ]
  },
  {
   "cell_type": "markdown",
   "metadata": {
    "id": "R7R6jjt0rN5D"
   },
   "source": [
    "## Task 3: Calculation of the Sortino Ratio\n",
    "As was shown in the powerpoint slides for lecture one we have 2 methods for evaluting risk adjusted returns; the Sharpe and Sortino ratios. The code for calculating the Sharpe ratio has already been written below and the task is to then adapt this code to calulate the Sortino ratio (where +ve volatility is ignored)."
   ]
  },
  {
   "cell_type": "code",
   "execution_count": 11,
   "metadata": {
    "id": "nM1Hpoj11CbC"
   },
   "outputs": [],
   "source": [
    "class Strategies():\n",
    "  \"\"\"\n",
    "  A class that contains code that strategies later on will inherit from.\n",
    "  params:\n",
    "  -----\n",
    "  codes = list of stock short codes\n",
    "  -----\n",
    "  \"\"\"\n",
    "  def __init__(self, codes):\n",
    "    self.codes = codes\n",
    "    self.strat = pd.DataFrame()\n",
    "    self.data = pd.DataFrame()\n",
    "\n",
    "  def import_data(self, start_date, end_date):\n",
    "    \"\"\"downloads all data for each backtest from yahoo Finance.\"\"\"\n",
    "    data = yf.download(self.codes, start_date, end_date)\n",
    "    # if only one stock code is entered data is reformated so that\n",
    "    # it is the same format as when multiple stocks are entered\n",
    "    if len(self.codes) == 1:\n",
    "      data.columns = [data.columns, self.codes*len(data.columns)]\n",
    "    #returns data where any row containing NAN values is removed\n",
    "    return data.dropna()\n",
    "\n",
    "  def backtest(self, start_date, end_date):\n",
    "    \"\"\"\n",
    "    Returns a list with elements of a time series' from yahoo finance as well as\n",
    "    an array of values between -1 and 1 that represent the strategy over the giv\n",
    "    en period with 1 representing a long postion in one stock, 0 representing a\n",
    "    neutral postion and -1 representing a short position.\n",
    "    params:\n",
    "    -----\n",
    "    start_date, end_date  = string of dates for backtesting with format Y-m-d\n",
    "    -----\n",
    "    \"\"\"\n",
    "    # sets up a dataframe to contain all strategy info for each stock at each \n",
    "    # time index\n",
    "    self.data = self.import_data(start_date, end_date)\n",
    "    self.strat = pd.DataFrame(data = np.zeros([len(self.data), len(self.codes)]),\n",
    "                              columns = self.codes, index = self.data.index)\n",
    "  \n",
    "  def evaluate(self, start_date, end_date, fig_strat=True, fig_other=False,\n",
    "               percentage_risk_free_rate = 0.1, **kwargs):\n",
    "    \"\"\"\n",
    "    returns a dataframe with columns including the daily returns of the portfolio,\n",
    "    the cumulative returns, the sharp ratio and all relevant plots of both the \n",
    "    stock price of each stock \n",
    "    and the strategy.\n",
    "    params:\n",
    "    ----\n",
    "    start_date, end_date  = string of dates for backtesting with format Y-m-d\n",
    "    fig = boolean variable that can be used to produce figures\n",
    "    risk_free_rate = average rate of return on a very safe government issued bond\n",
    "                     used to calculate the sharpe ratio with\n",
    "    **kwargs are any specific keyword arguments that can be passed to the\n",
    "    backtesting function to allow for comparison of the backtest for different\n",
    "    possible parameters defined in the subclass.\n",
    "    ----\n",
    "    \"\"\"\n",
    "    # run the backtest function and define the stock price data to be once again\n",
    "    # data and the signals strat\n",
    "    self.strat = self.backtest(start_date, end_date, **kwargs)\n",
    "\n",
    "    # convert the monthly risk free rate to the daily rate for use\n",
    "    # when calculating Sharpe and sortino ratios\n",
    "    daily_rate = (1+ percentage_risk_free_rate/100)**(1/20) - 1\n",
    "    \n",
    "    # sets up a new dataframe which will give the returns of the portfolio\n",
    "    return_df = pd.DataFrame(columns= [\"daily returns\", \"cumulative returns\"],\n",
    "                                  index = self.data.index)\n",
    "    return_df[\"daily returns\"][0] = 0\n",
    "    \n",
    "    # loops through the remaining dates and calculates the return across \n",
    "    # the portfolio\n",
    "    for i in range(1, len(self.data)):\n",
    "      return_df[\"daily returns\"][i] = sum(100*self.strat[c][i-1]*(self.data[\"Adj Close\"][c][i] - self.data[\"Adj Close\"][c][i-1]) \n",
    "                                               /self.data[\"Adj Close\"][c][i-1] for c in self.codes)\n",
    "    # calculates the cumulative return for each date\n",
    "    return_df[\"cumulative returns\"] = ((return_df[\"daily returns\"]/100+1).cumprod()-1)*100\n",
    "    return_df.dropna()\n",
    "\n",
    "    # calculates the length of time for which the strategy is inactive to begin with\n",
    "    zero_count = 0\n",
    "    while True:\n",
    "      if sum(abs(self.strat[c].iloc[zero_count]) for c in self.codes):\n",
    "        break\n",
    "      zero_count += 1\n",
    "    \n",
    "    # calculates the Sharpe ratio not including the first period of inactivity\n",
    "    sharpe  = ((return_df[\"daily returns\"][zero_count:].sum()/100 - \n",
    "                     len(return_df[zero_count:]) * daily_rate) /\n",
    "                    return_df[\"daily returns\"][zero_count:].std())\n",
    "\n",
    "\n",
    "    sortino = ((return_df[\"daily returns\"][zero_count:].sum()/100 - \n",
    "                     len(return_df[zero_count:]) * daily_rate) /\n",
    "                    return_df[return_df[\"daily returns\"] < 0][\"daily returns\"][zero_count:].std())\n",
    "    \n",
    "    \n",
    "    # plots figures if fig TRUE\n",
    "    if fig_strat:\n",
    "      # plot of strategy returns\n",
    "      plt.figure()\n",
    "      plt.title(\"Strategy Backtest from \"+ start_date+\" to \"+end_date)\n",
    "      plt.plot(return_df[\"cumulative returns\"])\n",
    "      plt.show()\n",
    "\n",
    "    if fig_other:\n",
    "      # plot of all individual stocks\n",
    "      for c in self.codes:\n",
    "        plt.figure()\n",
    "        plt.title(\"Buy and hold from \"+ start_date+\" to \"+end_date+\" for \"+str(c))\n",
    "        plt.plot(((self.data[\"Adj Close\"][c].pct_change()+1).cumprod()-1)*100)\n",
    "        plt.show()\n",
    "    \n",
    "    return [return_df, sharpe, sortino]"
   ]
  },
  {
   "cell_type": "markdown",
   "metadata": {
    "id": "K7vPfBo2n1ap"
   },
   "source": [
    "## Strategy Specific Classes\n",
    "Each strategy will have to have at a minimum a specific backtesting method defined in the subclass. This method is where the trading algorithm will be implemented and will return a pandas `DataFrame` with an index of all trading dates, columns for each stock in the backtest and data containing values between -1 and 1 representing the positon in each asset at each date."
   ]
  },
  {
   "cell_type": "markdown",
   "metadata": {
    "id": "58qdF1evnTTy"
   },
   "source": [
    "## Buy and Hold Implementation\n",
    "The first strategy example that we will brifly look at is simply buying and holding each selected asset with an equal weighting. This is acheived by first defining a pandas dataframe full of ones and then dividing through by the number of tickers (or codes). Although this isn't much of an algorithm, it is useful for seeing how the skeleton code works. "
   ]
  },
  {
   "cell_type": "code",
   "execution_count": 12,
   "metadata": {
    "id": "lWAIBRLA_fXU"
   },
   "outputs": [],
   "source": [
    "class StrategyBuyAndHold(Strategies):\n",
    "    \"\"\"\n",
    "    This strategy as the name suggests buys and holds an equal amount of each security\n",
    "    \"\"\"\n",
    "    def backtest(self, start_date, end_date):\n",
    "      Strategies.backtest(self, start_date, end_date)\n",
    "      # creates a normalized set of weightings representing a buy and hold strat\n",
    "      # with each column summing to one \n",
    "      return pd.DataFrame(data = (np.ones([len(self.data), len(self.codes)])\n",
    "                    /len(self.codes)), columns = self.codes)\n",
    "      \n"
   ]
  },
  {
   "cell_type": "code",
   "execution_count": 13,
   "metadata": {
    "colab": {
     "base_uri": "https://localhost:8080/",
     "height": 822
    },
    "id": "XQbmd1OGD8_w",
    "outputId": "121d5a7f-9ae5-4577-da0c-a94c6354905c"
   },
   "outputs": [
    {
     "name": "stdout",
     "output_type": "stream",
     "text": [
      "[*********************100%***********************]  1 of 1 completed\n"
     ]
    },
    {
     "data": {
      "image/png": "[encoded data removed]",
      "text/plain": [
       "<Figure size 432x288 with 1 Axes>"
      ]
     },
     "metadata": {
      "needs_background": "light"
     },
     "output_type": "display_data"
    },
    {
     "data": {
      "image/png": "[encoded data removed]",
      "text/plain": [
       "<Figure size 432x288 with 1 Axes>"
      ]
     },
     "metadata": {
      "needs_background": "light"
     },
     "output_type": "display_data"
    },
    {
     "data": {
      "text/plain": [
       "[           daily returns cumulative returns\n",
       " Date                                       \n",
       " 2015-01-02             0                0.0\n",
       " 2015-01-05      1.509277           1.509277\n",
       " 2015-01-06      1.279178           2.807761\n",
       " 2015-01-07      -0.71353           2.074197\n",
       " 2015-01-08     -0.181724           1.888704\n",
       " ...                  ...                ...\n",
       " 2022-02-28      0.683807          60.151773\n",
       " 2022-03-01      2.263873          63.777405\n",
       " 2022-03-02     -1.106878          61.964589\n",
       " 2022-03-03      0.702796          63.102869\n",
       " 2022-03-04      1.587053          65.691398\n",
       " \n",
       " [1804 rows x 2 columns],\n",
       " 0.5306756949537962,\n",
       " 0.7336891495544718]"
      ]
     },
     "execution_count": 13,
     "metadata": {},
     "output_type": "execute_result"
    }
   ],
   "source": [
    "testbh = StrategyBuyAndHold([\"GC=F\"])\n",
    "testbh.evaluate(\"2015-01-01\",\"2022-03-05\", fig_other =True)"
   ]
  },
  {
   "cell_type": "markdown",
   "metadata": {
    "id": "EBr0M9Uoqvh3"
   },
   "source": [
    "## Task 1 Time Series Momentum Strategy\n",
    "The aim of this task is to implement a backtest for the time series momentum strategy:\n",
    "\n",
    "- This strategy will take a postion in every asset in the given basket.\n",
    "- If an asset has a negative historic return then a short position is taken and if it has a positive historic return then a long position is taken.\n",
    "- The lookback period for which returns are calculated is the previous `t` days. \n",
    "- We will also only adjust our portfolio weights every `q` days.\n",
    "Note the first date that we can calculate weights will be on date `t + 1` so we aim to adjust our portfolio weights every q days after this.\n",
    "- We then aim to normalize our weights by ensuring the sum of the absolute values of all weights on any given date is 1."
   ]
  },
  {
   "cell_type": "code",
   "execution_count": 14,
   "metadata": {
    "id": "RcymOnS6EqSx"
   },
   "outputs": [],
   "source": [
    "class StrategyTimeSeriesMomentum(Strategies):\n",
    "    \"\"\"\n",
    "    Implementation of a TS momentum strategy.\n",
    "    params:\n",
    "    ------\n",
    "    start_date, end_date strings of dates\n",
    "    t = lookback period length for calculating momentum of each stock\n",
    "    q = time length between portfolio adjustements\n",
    "    ------\n",
    "    \"\"\"\n",
    "    def backtest(self, start_date, end_date, q=10, t=50):\n",
    "      # imports all code from the parent class\n",
    "      self.q = q\n",
    "      self.t = t\n",
    "      Strategies.backtest(self, start_date, end_date)\n",
    "      # USE A FOR LOOP to loop through all remaining time vals\n",
    "      # hint start at time t+1 and use i as the index in the for loop\n",
    "      ####### ENTER CODE HERE #########\n",
    "      for i in range(t, len(self.data)):\n",
    "        # now use an IF LOOP to test for if a given date value is a day to adjust the portfolio\n",
    "        # hint use the modulo operator to compare the date to q\n",
    "        ####### ENTER CODE HERE #########\n",
    "          if not (i-t) % q:\n",
    "          # for each time step define a variable self.signals that is a pd Series with \n",
    "          # index of stock codes, data equal to the percentage returns over the previous\n",
    "          # t time steps.\n",
    "          ####### ENTER CODE HERE #########\n",
    "              signals = pd.Series(data = (100*(self.data[\"Adj Close\"][c][i-1] - self.data[\"Adj Close\"][c][i-t])/\n",
    "                                                    self.data[\"Adj Close\"][c][i-t] for c in self.codes), index = self.codes)\n",
    "          # Now to assign a strategy weight at each time step.\n",
    "          # for a row with index i assign self.strat[i][c] the value 1 for column [c]\n",
    "          # if the value of self.signal[c] is positive and -1 if it is negative     \n",
    "          ###### ENTER CODE HERE #########\n",
    "              self.strat.iloc[i] = np.sign(signals)\n",
    "          # normalize each row of self.strat such that the sum of absolute weights is 1\n",
    "          # also if the sum of abs weights is 0 then do nothing\n",
    "          ###### ENTER CODE HERE #########\n",
    "              row_sum = sum((abs(self.strat[c][i]) for c in self.codes))\n",
    "              if row_sum:\n",
    "                    self.strat.iloc[i] /= row_sum\n",
    "        # if the portfolio is not adjusted at time step i then do nothing\n",
    "        # the ith row of self.strat should be set to the value of the (i-1)th\n",
    "        ####### ENTER CODE HERE #########\n",
    "          else:\n",
    "                self.strat.iloc[i] = self.strat.iloc[i-1]   \n",
    "\n",
    "      return self.strat"
   ]
  },
  {
   "cell_type": "code",
   "execution_count": 15,
   "metadata": {
    "id": "dPu_WDWERf5L"
   },
   "outputs": [
    {
     "name": "stdout",
     "output_type": "stream",
     "text": [
      "[*********************100%***********************]  6 of 6 completed\n"
     ]
    },
    {
     "data": {
      "image/png": "[encoded data removed]",
      "text/plain": [
       "<Figure size 432x288 with 1 Axes>"
      ]
     },
     "metadata": {
      "needs_background": "light"
     },
     "output_type": "display_data"
    },
    {
     "data": {
      "text/plain": [
       "[           daily returns cumulative returns\n",
       " Date                                       \n",
       " 2018-01-02             0                0.0\n",
       " 2018-01-03           0.0                0.0\n",
       " 2018-01-04           0.0                0.0\n",
       " 2018-01-05           0.0                0.0\n",
       " 2018-01-08           0.0                0.0\n",
       " ...                  ...                ...\n",
       " 2022-02-28      1.444062          18.152246\n",
       " 2022-03-01      1.348912          19.746016\n",
       " 2022-03-02     -1.096622          18.432854\n",
       " 2022-03-03      1.116848          19.755569\n",
       " 2022-03-04      2.503532          22.753689\n",
       " \n",
       " [1014 rows x 2 columns],\n",
       " 0.23667260855655303,\n",
       " 0.32944253487320935]"
      ]
     },
     "execution_count": 15,
     "metadata": {},
     "output_type": "execute_result"
    }
   ],
   "source": [
    "## RUN THIS FOR TESTING ##\n",
    "testTSM = StrategyTimeSeriesMomentum([\"^FTSE\",\"GC=F\",\"ZC=F\",\"AMZN\",\"SIE.DE\",\"SIEGY\"])\n",
    "testTSM.evaluate(\"2018-01-01\",\"2022-03-05\", t=50)"
   ]
  },
  {
   "cell_type": "markdown",
   "metadata": {
    "id": "Mq0lBCSNp-9W"
   },
   "source": [
    "## Task 2: Relative Momentum Strategy\n",
    "The aim of this task is to implement a backtest for the relative momentum strategy:\n",
    "\n",
    "- For each date the strategy will take a long postion in the `p` best previous performing stocks and a short position in the `p` worst performing stocks. \n",
    "- The lookback period for which performance will be judged will be the previous `t` days. \n",
    "- We will also only adjust our portfolio weights every `q` days.\n",
    "Note the first date that we can calculate weights will be on date `t + 1` so we aim to adjust our portfolio weights every `q` days after this.\n",
    "\n",
    "For the worst performing stocks the weights should be negative and for the best performing stocks weights positive such that the sum of the absolute values across each row of the strategy weights is equal to 1! i.e the weights for the worst stocks are -1/(2p) and for the best `p` stocks 1/(2p). All other weights are 0.\n",
    "\n",
    "For this algorithm performance is measured by cumulative returns."
   ]
  },
  {
   "cell_type": "code",
   "execution_count": 16,
   "metadata": {
    "id": "5N0-H02BdylT"
   },
   "outputs": [],
   "source": [
    "class StrategyRelativeMomentum(Strategies):\n",
    "    \"\"\"\n",
    "    Implementation of a relative momentum strategy.\n",
    "    params:\n",
    "    ------\n",
    "    start_date, end_date strings of dates\n",
    "    p = half the number of stocks a postion a is taken in\n",
    "    t = lookback period length for calculating momentum of each stock\n",
    "    ------\n",
    "    \"\"\"\n",
    "    def backtest(self, start_date, end_date, p=2, q=14, t=50):\n",
    "      # imports all code from the parent class\n",
    "      Strategies.backtest(self, start_date, end_date)\n",
    "      # Similarly to the TS strat loop through all time steps i and decide a value\n",
    "      # is a portfolio changing time.\n",
    "      ######## INSERT CODE HERE #############\n",
    "        ######## INSERT CODE HERE #############\n",
    "      for i in range(t, len(self.data)):\n",
    "          if not (i - t) % q:\n",
    "          # as before define signals but sort the values in ascending order\n",
    "          ######## INSERT CODE HERE #############\n",
    "              signals = pd.Series(data = (100*(self.data[\"Adj Close\"][c][i-1] - self.data[\"Adj Close\"][c][i-t])/\n",
    "                                                    self.data[\"Adj Close\"][c][i-t] for c in self.codes), index = self.codes).sort_values()\n",
    "            # display(signals)\n",
    "          # select and loop through the p code names with a long position\n",
    "          ######## INSERT CODE HERE #############\n",
    "              for j in range(len(signals) - p, len(signals)):\n",
    "            # for each of these codes assign the appropriate weihting to strat\n",
    "            ######## INSERT CODE HERE #############\n",
    "                  c = signals.index[j]\n",
    "                  self.strat.iloc[i][c] = 1 / (2 * p)\n",
    "          # DO the same for each of the p code names with short postions\n",
    "          ######## INSERT CODE HERE #############\n",
    "            ######## INSERT CODE HERE #############\n",
    "              for j in range(0, p):\n",
    "                  c = signals.index[j]\n",
    "                  self.strat.iloc[i][c] = (- 1) / (2 * p)\n",
    "              # display(self.strat.iloc[i])\n",
    "        # if the portfolio is not adjusted at time step i then do nothing\n",
    "        ######## INSERT CODE HERE #############\n",
    "          else:\n",
    "            self.strat.iloc[i] = self.strat.iloc[i-1]\n",
    "      return self.strat"
   ]
  },
  {
   "cell_type": "code",
   "execution_count": 17,
   "metadata": {
    "id": "dPe74luDeQCu"
   },
   "outputs": [
    {
     "name": "stdout",
     "output_type": "stream",
     "text": [
      "[*********************100%***********************]  6 of 6 completed\n"
     ]
    },
    {
     "data": {
      "image/png": "[encoded data removed]",
      "text/plain": [
       "<Figure size 432x288 with 1 Axes>"
      ]
     },
     "metadata": {
      "needs_background": "light"
     },
     "output_type": "display_data"
    },
    {
     "data": {
      "text/plain": [
       "[           daily returns cumulative returns\n",
       " Date                                       \n",
       " 2018-01-02             0                0.0\n",
       " 2018-01-03           0.0                0.0\n",
       " 2018-01-04           0.0                0.0\n",
       " 2018-01-05           0.0                0.0\n",
       " 2018-01-08           0.0                0.0\n",
       " ...                  ...                ...\n",
       " 2022-02-28      1.569238          11.560048\n",
       " 2022-03-01      1.157458          12.851309\n",
       " 2022-03-02       3.68213          17.006641\n",
       " 2022-03-03     -0.357653          16.588163\n",
       " 2022-03-04      3.054493          20.149341\n",
       " \n",
       " [1033 rows x 2 columns],\n",
       " 0.17858038589486547,\n",
       " 0.24196916824640977]"
      ]
     },
     "execution_count": 17,
     "metadata": {},
     "output_type": "execute_result"
    }
   ],
   "source": [
    "testRM = StrategyRelativeMomentum([\"HG=F\",\"GC=F\",\"ZC=F\", \"SI=F\", \"PA=F\",\"RB=F\"])\n",
    "testRM.evaluate(\"2018-01-01\",\"2022-03-05\", t=50)"
   ]
  },
  {
   "cell_type": "markdown",
   "metadata": {
    "id": "CtTOtyrRQSDM"
   },
   "source": [
    "## Task 4: RSI Momentum  Strategy with Weighting Extension\n",
    "This task involves calculating the RSI for each stock and then using this value as a trading signal. From the Powerpoint Slides the formula for the RSI is given by:\n",
    " $$\\text{RSI} = 1 - \\frac{1}{\\left(1+\\text{abs}\\left(\\frac{\\text{average of previous gains}}{\\text{average of previous losses}}\\right)\\right)}$$\n",
    "\n",
    "The value of the RSI ranges from 0 to 1.\n",
    "\n",
    "The RSI is a useful oscillator that indicates the following few things:\n",
    "If the value of the RSI is close to 0 then this indicates that the asset is underpriced and the asset should be bought. If the RSI is close to one then this indicates it is over priced and the asset should be sold. These low and high boundary values of the RSI are 0.3 and 0.7 respectively\n",
    "\n",
    "\n",
    "This unweighted algorithm will do the following:\n",
    "  - Calculate the RSI at each date.\n",
    "  - If the RSI is less than 0.3 then enter a long position\n",
    "  - If the RSI is greater than 0.7 then enter a short position\n",
    "  - If the RSI is somewhere in between then keep the same position as at the previous date\n",
    "  - The lookback period for which previous average returns will be calculated is given by the parameter `t`\n",
    "  - The Boolean parameter weighting will, if True, implement a type of user defined weighting strategies or, if False, will weight each stock equally.\n",
    "  - Note that we want the weightings of the portfolio to only change when the RSI drops below 0.3 or rises above 0.7.\n",
    "\n",
    "The weighted algorithm will:\n",
    " - adjust the portfolio every `q` days where `q` is an extra parameter.\n",
    " - weightings will be assigned based on some function of the RSI values.\n",
    "\n",
    "### Weighting Functions\n",
    "The weighting function $\\text{w(x)}$ in this case will simply be an algebraic function of the RSI value. It is important that this function  maps as follows $\\text{w}\\left([0,1]\\right)\\rightarrow [-1,1]$ with $\\text{w}(0) > 0,\\text{w}(1) < 0$.\n",
    "\n",
    "Some common examples of these types of weighting functions include various polynomials including the following simple linear polynomial symmetric about $\\frac{1}{2}$.\n",
    "$$w(x) = k_1\\left(\\frac{1}{2}-x\\right)$$\n",
    "\n",
    "(note the constant $k_1$ above is not necassry to be calculated as when coding we will normalize all the weightings)\n",
    "\n",
    "One problem with the above function however is that it is symmetric and an investor may wish to use a weighting function that protects against the risks of short selling. So may want to consider the following weighting function:\n",
    "$$w(x) = k_1\\left(\\frac{1}{2}+ϵ-x\\right) \\text{for } ϵ>0$$\n",
    "\n",
    "Note other weighting methods are also possible that do not involve weighting or smoothing functions but instead use historic data to produce a weighting method.\n",
    "One such example methods of inverse volatility weighting where i,e assets with a smaller previous standard deviations over a lookback period have a higher weighting.\n",
    "\n",
    "Note also that the weighting function need not only be a function of the current RSI value but could also depend on previous RSI values.\n",
    "\n"
   ]
  },
  {
   "cell_type": "code",
   "execution_count": 38,
   "metadata": {
    "id": "Yn-zBOmBQapZ"
   },
   "outputs": [],
   "source": [
    "class StrategyRSI(Strategies):\n",
    "\n",
    "  def backtest(self, start_date, end_date, t=14, q=14, weighting = False):\n",
    "    Strategies.backtest(self, start_date, end_date)\n",
    "    \n",
    "    # set up a dataframe self.RSI\n",
    "    RSI = pd.DataFrame(data = np.zeros([len(self.data), len(self.codes)]),\n",
    "                              columns = self.codes, index = self.data.index)\n",
    "  \n",
    "    # loop through each index using a for loop with index i\n",
    "    ######## INSERT CODE HERE #############\n",
    "    for i in range(len(self.data)):\n",
    "      # define data_pct_change as a function that calulates the pct change over the previous\n",
    "      # t time periods. Hint use .pct_change() and dont convert to a percentage after.\n",
    "      ######## INSERT CODE HERE #############\n",
    "      data_pct_change = self.data['Adj Close'][i-t:i].pct_change()\n",
    "      # define numerator as the numerator of the RSI values for each asset at time i.\n",
    "      # package these values into a pd series with index self. codes\n",
    "      ######## INSERT CODE HERE #############\n",
    "      numerator = pd.Series(data = (data_pct_change[c][(data_pct_change[c] >= 0)].mean()\n",
    "                                         for c in self.codes),\n",
    "                            index = self.codes)\n",
    "      # similarly define denominator\n",
    "      ######## INSERT CODE HERE #############\n",
    "      denominator = pd.Series(data = (data_pct_change[c][(data_pct_change[c] < 0)].mean()\n",
    "                                         for c in self.codes),\n",
    "                            index = self.codes)\n",
    "      # loop through self.codes\n",
    "      ######## INSERT CODE HERE #############\n",
    "      for c in self.codes:\n",
    "        # calculate the RSI value for each asset at time i.\n",
    "        # hint carefully consider any potential NaN values.\n",
    "        ######## INSERT CODE HERE #############\n",
    "        if denominator.isnull()[c]: \n",
    "          RSI[c][i] = 1\n",
    "        elif numerator.isnull()[c]:\n",
    "          RSI[c][i] = 0\n",
    "        else:\n",
    "          RSI[c][i] = 1 - (1 / (1 + abs(numerator[c] / denominator[c])))\n",
    "        # if no weighting scheme is used set self.strat to be 1 if RSI value < 0.3\n",
    "        # and self.strat to be -1 for RSI > 0.7 do this for each code at time step i\n",
    "        # if neither condition is satisfied then set the value equal to previous\n",
    "        ######## INSERT CODE HERE #############\n",
    "        if not weighting:\n",
    "          if RSI[c][i] < 0.3:\n",
    "            self.strat.iloc[i] = 1\n",
    "          elif RSI[c][i] > 0.7:\n",
    "            self.strat.iloc[i] = -1\n",
    "          else:\n",
    "            self.strat.iloc[i] = self.strat.iloc[i-1]\n",
    "        # else implement a weighting scheme with the function that re-adjusts self.strat every q days\n",
    "        # to be 0.8 - RSI \n",
    "        ######## INSERT CODE HERE #############\n",
    "        else:\n",
    "          if not i % q:\n",
    "            self.strat.iloc[i] = 0.8 - RSI[c][i]\n",
    "          else:\n",
    "            self.strat.iloc[i] = self.strat.iloc[i-1]\n",
    "      # as before normalize the rows\n",
    "      ######## INSERT CODE HERE #############\n",
    "      row_sum = sum((abs(self.strat[c][i]) for c in self.codes))\n",
    "      if row_sum:\n",
    "        self.strat.iloc[i] /= row_sum\n",
    "      else:\n",
    "        self.strat.iloc[i] = self.strat.iloc[i-1]\n",
    "    return self.strat"
   ]
  },
  {
   "cell_type": "code",
   "execution_count": 39,
   "metadata": {
    "id": "TtaNueqBv29n"
   },
   "outputs": [
    {
     "name": "stdout",
     "output_type": "stream",
     "text": [
      "[*********************100%***********************]  8 of 8 completed\n"
     ]
    },
    {
     "data": {
      "image/png": "[encoded data removed]",
      "text/plain": [
       "<Figure size 432x288 with 1 Axes>"
      ]
     },
     "metadata": {
      "needs_background": "light"
     },
     "output_type": "display_data"
    },
    {
     "data": {
      "text/plain": [
       "[           daily returns cumulative returns\n",
       " Date                                       \n",
       " 2018-01-02             0                0.0\n",
       " 2018-01-03     -0.303059          -0.303059\n",
       " 2018-01-04     -0.819211          -1.119787\n",
       " 2018-01-05     -0.225579           -1.34284\n",
       " 2018-01-08      0.129662          -1.214919\n",
       " ...                  ...                ...\n",
       " 2022-02-28     -0.234086          75.574913\n",
       " 2022-03-01     -0.326843          75.001059\n",
       " 2022-03-02      1.462545          77.560529\n",
       " 2022-03-03     -0.326711          76.980418\n",
       " 2022-03-04     -1.901659          73.614855\n",
       " \n",
       " [1014 rows x 2 columns],\n",
       " 0.5615907343250953,\n",
       " 0.6621626462824308]"
      ]
     },
     "execution_count": 39,
     "metadata": {},
     "output_type": "execute_result"
    }
   ],
   "source": [
    "testRSI = StrategyRSI([\"^FTSE\",\"^GSPC\",\"AAPL\",\"GC=F\",\"ZC=F\",\"HG=F\",\"SIEGY\",\"SIE.DE\"])\n",
    "testRSI.evaluate(\"2018-01-01\",\"2022-03-05\", t=21, weighting= True)"
   ]
  },
  {
   "cell_type": "code",
   "execution_count": 31,
   "metadata": {},
   "outputs": [
    {
     "data": {
      "text/html": [
       "<div>\n",
       "<style scoped>\n",
       "    .dataframe tbody tr th:only-of-type {\n",
       "        vertical-align: middle;\n",
       "    }\n",
       "\n",
       "    .dataframe tbody tr th {\n",
       "        vertical-align: top;\n",
       "    }\n",
       "\n",
       "    .dataframe thead th {\n",
       "        text-align: right;\n",
       "    }\n",
       "</style>\n",
       "<table border=\"1\" class=\"dataframe\">\n",
       "  <thead>\n",
       "    <tr style=\"text-align: right;\">\n",
       "      <th></th>\n",
       "      <th>a</th>\n",
       "      <th>b</th>\n",
       "      <th>c</th>\n",
       "      <th>d</th>\n",
       "    </tr>\n",
       "  </thead>\n",
       "  <tbody>\n",
       "    <tr>\n",
       "      <th>0</th>\n",
       "      <td>1</td>\n",
       "      <td>2</td>\n",
       "      <td>3</td>\n",
       "      <td>4</td>\n",
       "    </tr>\n",
       "    <tr>\n",
       "      <th>1</th>\n",
       "      <td>100</td>\n",
       "      <td>200</td>\n",
       "      <td>300</td>\n",
       "      <td>400</td>\n",
       "    </tr>\n",
       "    <tr>\n",
       "      <th>2</th>\n",
       "      <td>1000</td>\n",
       "      <td>2000</td>\n",
       "      <td>3000</td>\n",
       "      <td>4000</td>\n",
       "    </tr>\n",
       "  </tbody>\n",
       "</table>\n",
       "</div>"
      ],
      "text/plain": [
       "      a     b     c     d\n",
       "0     1     2     3     4\n",
       "1   100   200   300   400\n",
       "2  1000  2000  3000  4000"
      ]
     },
     "metadata": {},
     "output_type": "display_data"
    },
    {
     "data": {
      "text/plain": [
       "a    100\n",
       "b    200\n",
       "c    300\n",
       "d    400\n",
       "Name: 1, dtype: int64"
      ]
     },
     "metadata": {},
     "output_type": "display_data"
    },
    {
     "data": {
      "text/plain": [
       "1"
      ]
     },
     "metadata": {},
     "output_type": "display_data"
    }
   ],
   "source": [
    "mydict = [{'a': 1, 'b': 2, 'c': 3, 'd': 4},\n",
    "          {'a': 100, 'b': 200, 'c': 300, 'd': 400},\n",
    "          {'a': 1000, 'b': 2000, 'c': 3000, 'd': 4000 }]\n",
    "df = pd.DataFrame(mydict)\n",
    "display(df)\n",
    "display(df.iloc[1])\n",
    "display(df['a'][0])"
   ]
  }
 ],
 "metadata": {
  "colab": {
   "collapsed_sections": [],
   "name": "STEC_lecture1_student_copy_final.ipynb",
   "provenance": []
  },
  "kernelspec": {
   "display_name": "Python 3",
   "language": "python",
   "name": "python3"
  },
  "language_info": {
   "codemirror_mode": {
    "name": "ipython",
    "version": 3
   },
   "file_extension": ".py",
   "mimetype": "text/x-python",
   "name": "python",
   "nbconvert_exporter": "python",
   "pygments_lexer": "ipython3",
   "version": "3.9.7"
  }
 },
 "nbformat": 4,
 "nbformat_minor": 1
}
