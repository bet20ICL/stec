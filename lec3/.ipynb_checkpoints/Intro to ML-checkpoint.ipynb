{
 "cells": [
  {
   "cell_type": "markdown",
   "id": "1bb46c36",
   "metadata": {},
   "source": [
    "# Intro to ML"
   ]
  },
  {
   "cell_type": "markdown",
   "id": "00439f42",
   "metadata": {},
   "source": [
    "## k-Nearest Neighbours (kNN)"
   ]
  },
  {
   "cell_type": "code",
   "execution_count": 29,
   "id": "22b61487",
   "metadata": {},
   "outputs": [],
   "source": [
    "import pandas as pd\n",
    "import numpy as np\n",
    "from sklearn.model_selection import train_test_split\n",
    "\n",
    "def get_data():\n",
    "    # Feel free to look through data at this url\n",
    "    url = (\n",
    "        \"https://archive.ics.uci.edu/ml/machine-learning-databases\"\n",
    "        \"/abalone/abalone.data\"\n",
    "    )\n",
    "\n",
    "    data = pd.read_csv(url, header=None)\n",
    "\n",
    "    return data\n",
    "\n",
    "def get_formatted_data():\n",
    "    # Download abalone data\n",
    "    data = get_data()\n",
    "\n",
    "    # Setting the column names found in\n",
    "    # https://archive.ics.uci.edu/ml/machine-learning-databases/abalone/abalone.data\n",
    "    data.columns = [\n",
    "        \"Sex\",\n",
    "        \"Length\",\n",
    "        \"Diameter (cont.)\",\n",
    "        \"Height\",\n",
    "        \"Whole Weight\",\n",
    "        \"Shucked Weight\",\n",
    "        \"Viscera Weight\",\n",
    "        \"Shell Weight\",\n",
    "        \"Rings\",\n",
    "    ]\n",
    "\n",
    "    # Remove \"Sex\" column - It's not a number and we won't be using it anyway\n",
    "    # Rings is our goal\n",
    "    data = data.drop(\"Sex\", axis=1)\n",
    "\n",
    "    # Split into our input data and our goal\n",
    "    X = data.drop(\"Rings\", axis=1)\n",
    "    y = data[\"Rings\"]\n",
    "\n",
    "    return X.values, y.values\n",
    "\n",
    "def get_new_data_point():\n",
    "    # Change to whatever values you want - e.g. np.array([1,2,3,4,5,6,7,])\n",
    "    return np.ones(7)\n",
    "\n",
    "# Use whatever distance function you want\n",
    "# Will start with the initial np Euclidean distance but feel free to implement yourself or pick a different\n",
    "# distance function\n",
    "def get_distance(a, b):\n",
    "    return np.linalg.norm(a - b, axis=1)\n",
    "\n",
    "\n",
    "def predict(X, y, new_point, k=3):\n",
    "    # As usual, split into training and test data\n",
    "\n",
    "    # Calculate distance from point to all points in X_train\n",
    "\n",
    "    # Get ids of nearest nodes - hint: argsort\n",
    "\n",
    "    # Find 'Ring' value for each point in nearest_ids\n",
    "\n",
    "    # As this is a regression problem, take the mean of these rings\n",
    "    pass"
   ]
  },
  {
   "cell_type": "markdown",
   "id": "51d3a4a1",
   "metadata": {},
   "source": [
    "### Extensions (pick and choose):\n",
    " - Change your `predict` method to use multiple `new_point`s at the same time\n",
    " - Implement `evaluation` method\n",
    " - Use test / validation set to tune the value of `k`\n",
    " - Implement classification using data from https://raw.githubusercontent.com/jbrownlee/Datasets/master/iris.csv and https://raw.githubusercontent.com/jbrownlee/Datasets/master/iris.names - Remember to use mode instead of mean"
   ]
  },
  {
   "cell_type": "code",
   "execution_count": null,
   "id": "d6567fab",
   "metadata": {},
   "outputs": [],
   "source": []
  }
 ],
 "metadata": {
  "kernelspec": {
   "display_name": "Python 3 (ipykernel)",
   "language": "python",
   "name": "python3"
  },
  "language_info": {
   "codemirror_mode": {
    "name": "ipython",
    "version": 3
   },
   "file_extension": ".py",
   "mimetype": "text/x-python",
   "name": "python",
   "nbconvert_exporter": "python",
   "pygments_lexer": "ipython3",
   "version": "3.9.7"
  }
 },
 "nbformat": 4,
 "nbformat_minor": 5
}
